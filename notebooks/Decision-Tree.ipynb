{
 "cells": [
  {
   "cell_type": "markdown",
   "id": "6b70bad1-1a32-490c-bcee-043deba8129f",
   "metadata": {},
   "source": [
    "# Loading and Preparing the Loan Data\n",
    "\n",
    "First, read in the CSV."
   ]
  },
  {
   "cell_type": "code",
   "execution_count": 1,
   "id": "93ab4d5d-700d-4df0-98a5-3b2dfdee4050",
   "metadata": {},
   "outputs": [
    {
     "name": "stderr",
     "output_type": "stream",
     "text": [
      "/tmp/ipykernel_140595/1409888286.py:3: DtypeWarning: Columns (9) have mixed types. Specify dtype option on import or set low_memory=False.\n",
      "  loan_data_raw = pd.read_csv('./data/SBAnational.csv')\n"
     ]
    },
    {
     "data": {
      "text/html": [
       "<div>\n",
       "<style scoped>\n",
       "    .dataframe tbody tr th:only-of-type {\n",
       "        vertical-align: middle;\n",
       "    }\n",
       "\n",
       "    .dataframe tbody tr th {\n",
       "        vertical-align: top;\n",
       "    }\n",
       "\n",
       "    .dataframe thead th {\n",
       "        text-align: right;\n",
       "    }\n",
       "</style>\n",
       "<table border=\"1\" class=\"dataframe\">\n",
       "  <thead>\n",
       "    <tr style=\"text-align: right;\">\n",
       "      <th></th>\n",
       "      <th>LoanNr_ChkDgt</th>\n",
       "      <th>Name</th>\n",
       "      <th>City</th>\n",
       "      <th>State</th>\n",
       "      <th>Zip</th>\n",
       "      <th>Bank</th>\n",
       "      <th>BankState</th>\n",
       "      <th>NAICS</th>\n",
       "      <th>ApprovalDate</th>\n",
       "      <th>ApprovalFY</th>\n",
       "      <th>...</th>\n",
       "      <th>RevLineCr</th>\n",
       "      <th>LowDoc</th>\n",
       "      <th>ChgOffDate</th>\n",
       "      <th>DisbursementDate</th>\n",
       "      <th>DisbursementGross</th>\n",
       "      <th>BalanceGross</th>\n",
       "      <th>MIS_Status</th>\n",
       "      <th>ChgOffPrinGr</th>\n",
       "      <th>GrAppv</th>\n",
       "      <th>SBA_Appv</th>\n",
       "    </tr>\n",
       "  </thead>\n",
       "  <tbody>\n",
       "    <tr>\n",
       "      <th>0</th>\n",
       "      <td>1000014003</td>\n",
       "      <td>ABC HOBBYCRAFT</td>\n",
       "      <td>EVANSVILLE</td>\n",
       "      <td>IN</td>\n",
       "      <td>47711</td>\n",
       "      <td>FIFTH THIRD BANK</td>\n",
       "      <td>OH</td>\n",
       "      <td>451120</td>\n",
       "      <td>28-Feb-97</td>\n",
       "      <td>1997</td>\n",
       "      <td>...</td>\n",
       "      <td>N</td>\n",
       "      <td>Y</td>\n",
       "      <td>NaN</td>\n",
       "      <td>28-Feb-99</td>\n",
       "      <td>$60,000.00</td>\n",
       "      <td>$0.00</td>\n",
       "      <td>P I F</td>\n",
       "      <td>$0.00</td>\n",
       "      <td>$60,000.00</td>\n",
       "      <td>$48,000.00</td>\n",
       "    </tr>\n",
       "    <tr>\n",
       "      <th>1</th>\n",
       "      <td>1000024006</td>\n",
       "      <td>LANDMARK BAR &amp; GRILLE (THE)</td>\n",
       "      <td>NEW PARIS</td>\n",
       "      <td>IN</td>\n",
       "      <td>46526</td>\n",
       "      <td>1ST SOURCE BANK</td>\n",
       "      <td>IN</td>\n",
       "      <td>722410</td>\n",
       "      <td>28-Feb-97</td>\n",
       "      <td>1997</td>\n",
       "      <td>...</td>\n",
       "      <td>N</td>\n",
       "      <td>Y</td>\n",
       "      <td>NaN</td>\n",
       "      <td>31-May-97</td>\n",
       "      <td>$40,000.00</td>\n",
       "      <td>$0.00</td>\n",
       "      <td>P I F</td>\n",
       "      <td>$0.00</td>\n",
       "      <td>$40,000.00</td>\n",
       "      <td>$32,000.00</td>\n",
       "    </tr>\n",
       "    <tr>\n",
       "      <th>2</th>\n",
       "      <td>1000034009</td>\n",
       "      <td>WHITLOCK DDS, TODD M.</td>\n",
       "      <td>BLOOMINGTON</td>\n",
       "      <td>IN</td>\n",
       "      <td>47401</td>\n",
       "      <td>GRANT COUNTY STATE BANK</td>\n",
       "      <td>IN</td>\n",
       "      <td>621210</td>\n",
       "      <td>28-Feb-97</td>\n",
       "      <td>1997</td>\n",
       "      <td>...</td>\n",
       "      <td>N</td>\n",
       "      <td>N</td>\n",
       "      <td>NaN</td>\n",
       "      <td>31-Dec-97</td>\n",
       "      <td>$287,000.00</td>\n",
       "      <td>$0.00</td>\n",
       "      <td>P I F</td>\n",
       "      <td>$0.00</td>\n",
       "      <td>$287,000.00</td>\n",
       "      <td>$215,250.00</td>\n",
       "    </tr>\n",
       "    <tr>\n",
       "      <th>3</th>\n",
       "      <td>1000044001</td>\n",
       "      <td>BIG BUCKS PAWN &amp; JEWELRY, LLC</td>\n",
       "      <td>BROKEN ARROW</td>\n",
       "      <td>OK</td>\n",
       "      <td>74012</td>\n",
       "      <td>1ST NATL BK &amp; TR CO OF BROKEN</td>\n",
       "      <td>OK</td>\n",
       "      <td>0</td>\n",
       "      <td>28-Feb-97</td>\n",
       "      <td>1997</td>\n",
       "      <td>...</td>\n",
       "      <td>N</td>\n",
       "      <td>Y</td>\n",
       "      <td>NaN</td>\n",
       "      <td>30-Jun-97</td>\n",
       "      <td>$35,000.00</td>\n",
       "      <td>$0.00</td>\n",
       "      <td>P I F</td>\n",
       "      <td>$0.00</td>\n",
       "      <td>$35,000.00</td>\n",
       "      <td>$28,000.00</td>\n",
       "    </tr>\n",
       "    <tr>\n",
       "      <th>4</th>\n",
       "      <td>1000054004</td>\n",
       "      <td>ANASTASIA CONFECTIONS, INC.</td>\n",
       "      <td>ORLANDO</td>\n",
       "      <td>FL</td>\n",
       "      <td>32801</td>\n",
       "      <td>FLORIDA BUS. DEVEL CORP</td>\n",
       "      <td>FL</td>\n",
       "      <td>0</td>\n",
       "      <td>28-Feb-97</td>\n",
       "      <td>1997</td>\n",
       "      <td>...</td>\n",
       "      <td>N</td>\n",
       "      <td>N</td>\n",
       "      <td>NaN</td>\n",
       "      <td>14-May-97</td>\n",
       "      <td>$229,000.00</td>\n",
       "      <td>$0.00</td>\n",
       "      <td>P I F</td>\n",
       "      <td>$0.00</td>\n",
       "      <td>$229,000.00</td>\n",
       "      <td>$229,000.00</td>\n",
       "    </tr>\n",
       "  </tbody>\n",
       "</table>\n",
       "<p>5 rows × 27 columns</p>\n",
       "</div>"
      ],
      "text/plain": [
       "   LoanNr_ChkDgt                           Name          City State    Zip  \\\n",
       "0     1000014003                 ABC HOBBYCRAFT    EVANSVILLE    IN  47711   \n",
       "1     1000024006    LANDMARK BAR & GRILLE (THE)     NEW PARIS    IN  46526   \n",
       "2     1000034009          WHITLOCK DDS, TODD M.   BLOOMINGTON    IN  47401   \n",
       "3     1000044001  BIG BUCKS PAWN & JEWELRY, LLC  BROKEN ARROW    OK  74012   \n",
       "4     1000054004    ANASTASIA CONFECTIONS, INC.       ORLANDO    FL  32801   \n",
       "\n",
       "                            Bank BankState   NAICS ApprovalDate ApprovalFY  \\\n",
       "0               FIFTH THIRD BANK        OH  451120    28-Feb-97       1997   \n",
       "1                1ST SOURCE BANK        IN  722410    28-Feb-97       1997   \n",
       "2        GRANT COUNTY STATE BANK        IN  621210    28-Feb-97       1997   \n",
       "3  1ST NATL BK & TR CO OF BROKEN        OK       0    28-Feb-97       1997   \n",
       "4        FLORIDA BUS. DEVEL CORP        FL       0    28-Feb-97       1997   \n",
       "\n",
       "   ...  RevLineCr  LowDoc  ChgOffDate  DisbursementDate  DisbursementGross  \\\n",
       "0  ...          N       Y         NaN         28-Feb-99        $60,000.00    \n",
       "1  ...          N       Y         NaN         31-May-97        $40,000.00    \n",
       "2  ...          N       N         NaN         31-Dec-97       $287,000.00    \n",
       "3  ...          N       Y         NaN         30-Jun-97        $35,000.00    \n",
       "4  ...          N       N         NaN         14-May-97       $229,000.00    \n",
       "\n",
       "   BalanceGross  MIS_Status ChgOffPrinGr        GrAppv      SBA_Appv  \n",
       "0        $0.00        P I F       $0.00    $60,000.00    $48,000.00   \n",
       "1        $0.00        P I F       $0.00    $40,000.00    $32,000.00   \n",
       "2        $0.00        P I F       $0.00   $287,000.00   $215,250.00   \n",
       "3        $0.00        P I F       $0.00    $35,000.00    $28,000.00   \n",
       "4        $0.00        P I F       $0.00   $229,000.00   $229,000.00   \n",
       "\n",
       "[5 rows x 27 columns]"
      ]
     },
     "execution_count": 1,
     "metadata": {},
     "output_type": "execute_result"
    }
   ],
   "source": [
    "import pandas as pd\n",
    "\n",
    "loan_data_raw = pd.read_csv('./data/SBAnational.csv')\n",
    "loan_data_raw.head()"
   ]
  },
  {
   "cell_type": "code",
   "execution_count": 2,
   "id": "22b381e3-48bf-46bd-96a9-e0fd7876673d",
   "metadata": {},
   "outputs": [
    {
     "data": {
      "text/plain": [
       "Index(['LoanNr_ChkDgt', 'Name', 'City', 'State', 'Zip', 'Bank', 'BankState',\n",
       "       'NAICS', 'ApprovalDate', 'ApprovalFY', 'Term', 'NoEmp', 'NewExist',\n",
       "       'CreateJob', 'RetainedJob', 'FranchiseCode', 'UrbanRural', 'RevLineCr',\n",
       "       'LowDoc', 'ChgOffDate', 'DisbursementDate', 'DisbursementGross',\n",
       "       'BalanceGross', 'MIS_Status', 'ChgOffPrinGr', 'GrAppv', 'SBA_Appv'],\n",
       "      dtype='object')"
      ]
     },
     "execution_count": 2,
     "metadata": {},
     "output_type": "execute_result"
    }
   ],
   "source": [
    "loan_data_raw.columns"
   ]
  },
  {
   "cell_type": "markdown",
   "id": "913a47d9-2563-46b5-8c61-adcb4e4e02b9",
   "metadata": {},
   "source": [
    "Investigate the column (ApprovalFY) that has a warning of containing mixed data types."
   ]
  },
  {
   "cell_type": "code",
   "execution_count": 3,
   "id": "7c431ef5-7ec0-4e9d-92c3-60dd0aa41df0",
   "metadata": {},
   "outputs": [
    {
     "data": {
      "text/plain": [
       "array([1997, 1980, 2006, 1998, 1999, 2000, 2001, 1972, 2003, 2004, 1978,\n",
       "       1979, 1981, 2005, 1962, 1982, 1965, 1966, 1983, 1973, 1984, 2007,\n",
       "       1985, 1986, 1987, 2008, 1988, 2009, 1989, 1991, 1990, 1974, 2010,\n",
       "       1967, 2011, 1992, 1993, 2002, 2012, 2013, 1994, 2014, 1975, 1977,\n",
       "       1976, 1968, '2004', '1994', '1979', '1976', '1967', '1975', '1974',\n",
       "       '1977', '1981', '1982', '1983', '1984', '1978', '1980', '1968',\n",
       "       '1976A', '1969', '1995', '1970', '2005', '1996', '1971', 1996,\n",
       "       1971], dtype=object)"
      ]
     },
     "execution_count": 3,
     "metadata": {},
     "output_type": "execute_result"
    }
   ],
   "source": [
    "loan_data_raw['ApprovalFY'].unique()"
   ]
  },
  {
   "cell_type": "markdown",
   "id": "0e4fac4b-09e6-4355-aeb9-55c854863582",
   "metadata": {},
   "source": [
    "It appears the years are being read numerically, but after encountering a row of '1976A', they're converted to strings. We can easily change 1976A to 1976 then convert the entire column to be numeric."
   ]
  },
  {
   "cell_type": "code",
   "execution_count": 4,
   "id": "87ea2926-4a29-420e-b006-b45f5a16c4e8",
   "metadata": {},
   "outputs": [
    {
     "data": {
      "text/plain": [
       "array([1997, 1980, 2006, 1998, 1999, 2000, 2001, 1972, 2003, 2004, 1978,\n",
       "       1979, 1981, 2005, 1962, 1982, 1965, 1966, 1983, 1973, 1984, 2007,\n",
       "       1985, 1986, 1987, 2008, 1988, 2009, 1989, 1991, 1990, 1974, 2010,\n",
       "       1967, 2011, 1992, 1993, 2002, 2012, 2013, 1994, 2014, 1975, 1977,\n",
       "       1976, 1968, 1969, 1995, 1970, 1996, 1971])"
      ]
     },
     "execution_count": 4,
     "metadata": {},
     "output_type": "execute_result"
    }
   ],
   "source": [
    "loan_data_raw[loan_data_raw['ApprovalFY'] == '1976A'] = 1976\n",
    "loan_data_raw['ApprovalFY'] = pd.to_numeric(loan_data_raw['ApprovalFY'])\n",
    "\n",
    "# Verify\n",
    "loan_data_raw['ApprovalFY'].unique()"
   ]
  },
  {
   "cell_type": "markdown",
   "id": "7f3754c2-16a1-4f03-8d13-c91b210215a8",
   "metadata": {},
   "source": [
    "## Converting Columns to Numerical"
   ]
  },
  {
   "cell_type": "markdown",
   "id": "6ba5cc70-d1e6-408a-a018-8c9356e31074",
   "metadata": {},
   "source": [
    "We convert `ApprovalDate` and `DisbursementDate` into numericals by converting to them to `int` types, which represents the time since the UNIX epoch (00:00:00 UTC on 1 January 1970). `ChgOffDate` is purposefully ignored."
   ]
  },
  {
   "cell_type": "code",
   "execution_count": 5,
   "id": "1e4b46c5-6257-417f-a4a1-842e4762422c",
   "metadata": {},
   "outputs": [],
   "source": [
    "# Dropping rows that don't have the correct date format\n",
    "\n",
    "import re\n",
    "\n",
    "def is_valid_date(date):\n",
    "    # Regex pattern to match the date format d-Mon-YY or dd-Mon-YY\n",
    "    pattern = r'^\\d{1,2}-[A-Za-z]{3}-\\d{2}$'\n",
    "    str_date = str(date)\n",
    "    return bool(re.match(pattern, str_date))\n",
    "\n",
    "loan_data_raw = loan_data_raw[loan_data_raw['ApprovalDate'].apply(is_valid_date) & loan_data_raw['DisbursementDate'].apply(is_valid_date)]"
   ]
  },
  {
   "cell_type": "code",
   "execution_count": 6,
   "id": "beab529c-d0f6-4d41-aef9-afb93bc607da",
   "metadata": {},
   "outputs": [],
   "source": [
    "loan_data_raw['ApprovalDate'] = pd.to_datetime(loan_data_raw['ApprovalDate'], format='%d-%b-%y')\n",
    "loan_data_raw['ApprovalDate'] = (loan_data_raw['ApprovalDate'] - pd.Timestamp('1970-01-01')) // pd.Timedelta('1D')    \n",
    "\n",
    "loan_data_raw['DisbursementDate'] = pd.to_datetime(loan_data_raw['DisbursementDate'], format='%d-%b-%y')\n",
    "loan_data_raw['DisbursementDate'] = (loan_data_raw['DisbursementDate'] - pd.Timestamp('1970-01-01')) // pd.Timedelta('1D')"
   ]
  },
  {
   "cell_type": "code",
   "execution_count": 7,
   "id": "60c40dd2-de4d-4394-b043-d3b4703ac73f",
   "metadata": {},
   "outputs": [
    {
     "data": {
      "text/html": [
       "<div>\n",
       "<style scoped>\n",
       "    .dataframe tbody tr th:only-of-type {\n",
       "        vertical-align: middle;\n",
       "    }\n",
       "\n",
       "    .dataframe tbody tr th {\n",
       "        vertical-align: top;\n",
       "    }\n",
       "\n",
       "    .dataframe thead th {\n",
       "        text-align: right;\n",
       "    }\n",
       "</style>\n",
       "<table border=\"1\" class=\"dataframe\">\n",
       "  <thead>\n",
       "    <tr style=\"text-align: right;\">\n",
       "      <th></th>\n",
       "      <th>ApprovalDate</th>\n",
       "      <th>DisbursementDate</th>\n",
       "    </tr>\n",
       "  </thead>\n",
       "  <tbody>\n",
       "    <tr>\n",
       "      <th>0</th>\n",
       "      <td>9920</td>\n",
       "      <td>10650</td>\n",
       "    </tr>\n",
       "    <tr>\n",
       "      <th>1</th>\n",
       "      <td>9920</td>\n",
       "      <td>10012</td>\n",
       "    </tr>\n",
       "    <tr>\n",
       "      <th>2</th>\n",
       "      <td>9920</td>\n",
       "      <td>10226</td>\n",
       "    </tr>\n",
       "    <tr>\n",
       "      <th>3</th>\n",
       "      <td>9920</td>\n",
       "      <td>10042</td>\n",
       "    </tr>\n",
       "    <tr>\n",
       "      <th>4</th>\n",
       "      <td>9920</td>\n",
       "      <td>9995</td>\n",
       "    </tr>\n",
       "  </tbody>\n",
       "</table>\n",
       "</div>"
      ],
      "text/plain": [
       "   ApprovalDate  DisbursementDate\n",
       "0          9920             10650\n",
       "1          9920             10012\n",
       "2          9920             10226\n",
       "3          9920             10042\n",
       "4          9920              9995"
      ]
     },
     "execution_count": 7,
     "metadata": {},
     "output_type": "execute_result"
    }
   ],
   "source": [
    "# Verify\n",
    "loan_data_raw[['ApprovalDate', 'DisbursementDate']].head()"
   ]
  },
  {
   "cell_type": "markdown",
   "id": "8adbd209-76a8-4bda-90b1-e837ce0c0234",
   "metadata": {},
   "source": [
    "Next, we convert the currency columns - `DisbursementGross`, `GrAppv`, and `SBA_Appv` - to doubles. `BalanceGross` and `ChgOffPrinGr` are deliberately ignored."
   ]
  },
  {
   "cell_type": "code",
   "execution_count": 8,
   "id": "26575fff-c73e-44a4-a864-ba92353ddbf2",
   "metadata": {},
   "outputs": [
    {
     "data": {
      "text/html": [
       "<div>\n",
       "<style scoped>\n",
       "    .dataframe tbody tr th:only-of-type {\n",
       "        vertical-align: middle;\n",
       "    }\n",
       "\n",
       "    .dataframe tbody tr th {\n",
       "        vertical-align: top;\n",
       "    }\n",
       "\n",
       "    .dataframe thead th {\n",
       "        text-align: right;\n",
       "    }\n",
       "</style>\n",
       "<table border=\"1\" class=\"dataframe\">\n",
       "  <thead>\n",
       "    <tr style=\"text-align: right;\">\n",
       "      <th></th>\n",
       "      <th>DisbursementGross</th>\n",
       "      <th>GrAppv</th>\n",
       "      <th>SBA_Appv</th>\n",
       "    </tr>\n",
       "  </thead>\n",
       "  <tbody>\n",
       "    <tr>\n",
       "      <th>0</th>\n",
       "      <td>60000.0</td>\n",
       "      <td>60000.0</td>\n",
       "      <td>48000.0</td>\n",
       "    </tr>\n",
       "    <tr>\n",
       "      <th>1</th>\n",
       "      <td>40000.0</td>\n",
       "      <td>40000.0</td>\n",
       "      <td>32000.0</td>\n",
       "    </tr>\n",
       "    <tr>\n",
       "      <th>2</th>\n",
       "      <td>287000.0</td>\n",
       "      <td>287000.0</td>\n",
       "      <td>215250.0</td>\n",
       "    </tr>\n",
       "    <tr>\n",
       "      <th>3</th>\n",
       "      <td>35000.0</td>\n",
       "      <td>35000.0</td>\n",
       "      <td>28000.0</td>\n",
       "    </tr>\n",
       "    <tr>\n",
       "      <th>4</th>\n",
       "      <td>229000.0</td>\n",
       "      <td>229000.0</td>\n",
       "      <td>229000.0</td>\n",
       "    </tr>\n",
       "  </tbody>\n",
       "</table>\n",
       "</div>"
      ],
      "text/plain": [
       "   DisbursementGross    GrAppv  SBA_Appv\n",
       "0            60000.0   60000.0   48000.0\n",
       "1            40000.0   40000.0   32000.0\n",
       "2           287000.0  287000.0  215250.0\n",
       "3            35000.0   35000.0   28000.0\n",
       "4           229000.0  229000.0  229000.0"
      ]
     },
     "execution_count": 8,
     "metadata": {},
     "output_type": "execute_result"
    }
   ],
   "source": [
    "def currency_to_double(series):\n",
    "    return series.replace({'\\$': '', ',': ''}, regex=True).astype(float)\n",
    "    \n",
    "currency_columns = ['DisbursementGross', 'GrAppv', 'SBA_Appv']\n",
    "for col in currency_columns:\n",
    "    loan_data_raw[col] = currency_to_double(loan_data_raw[col])\n",
    "\n",
    "## Verify\n",
    "loan_data_raw[currency_columns].head()"
   ]
  },
  {
   "cell_type": "markdown",
   "id": "08e048ef-6662-4815-90e8-6bbfe6a3d946",
   "metadata": {},
   "source": [
    "## Converting Columns to Categorical"
   ]
  },
  {
   "cell_type": "markdown",
   "id": "caae4bec-4316-4980-a297-e021b5d0993f",
   "metadata": {},
   "source": [
    "The columns `NewExist`, `UrbanRural`, and `NAICS` are all categorical, but we can convert them to more readable values and then rely on an encoder later in our pipeline. The conversion of `NAICS` will have an additional step, but the other columns are straightforward."
   ]
  },
  {
   "cell_type": "code",
   "execution_count": 9,
   "id": "c5e9b1d8-6e0a-4e00-983d-875e948c256c",
   "metadata": {},
   "outputs": [
    {
     "data": {
      "text/html": [
       "<div>\n",
       "<style scoped>\n",
       "    .dataframe tbody tr th:only-of-type {\n",
       "        vertical-align: middle;\n",
       "    }\n",
       "\n",
       "    .dataframe tbody tr th {\n",
       "        vertical-align: top;\n",
       "    }\n",
       "\n",
       "    .dataframe thead th {\n",
       "        text-align: right;\n",
       "    }\n",
       "</style>\n",
       "<table border=\"1\" class=\"dataframe\">\n",
       "  <thead>\n",
       "    <tr style=\"text-align: right;\">\n",
       "      <th></th>\n",
       "      <th>NewExist</th>\n",
       "      <th>UrbanRural</th>\n",
       "      <th>NAICS</th>\n",
       "    </tr>\n",
       "  </thead>\n",
       "  <tbody>\n",
       "    <tr>\n",
       "      <th>0</th>\n",
       "      <td>2.0</td>\n",
       "      <td>0</td>\n",
       "      <td>451120</td>\n",
       "    </tr>\n",
       "    <tr>\n",
       "      <th>1</th>\n",
       "      <td>2.0</td>\n",
       "      <td>0</td>\n",
       "      <td>722410</td>\n",
       "    </tr>\n",
       "    <tr>\n",
       "      <th>2</th>\n",
       "      <td>1.0</td>\n",
       "      <td>0</td>\n",
       "      <td>621210</td>\n",
       "    </tr>\n",
       "    <tr>\n",
       "      <th>3</th>\n",
       "      <td>1.0</td>\n",
       "      <td>0</td>\n",
       "      <td>0</td>\n",
       "    </tr>\n",
       "    <tr>\n",
       "      <th>4</th>\n",
       "      <td>1.0</td>\n",
       "      <td>0</td>\n",
       "      <td>0</td>\n",
       "    </tr>\n",
       "  </tbody>\n",
       "</table>\n",
       "</div>"
      ],
      "text/plain": [
       "   NewExist  UrbanRural   NAICS\n",
       "0       2.0           0  451120\n",
       "1       2.0           0  722410\n",
       "2       1.0           0  621210\n",
       "3       1.0           0       0\n",
       "4       1.0           0       0"
      ]
     },
     "execution_count": 9,
     "metadata": {},
     "output_type": "execute_result"
    }
   ],
   "source": [
    "loan_data_raw[['NewExist', 'UrbanRural', 'NAICS']].head()"
   ]
  },
  {
   "cell_type": "code",
   "execution_count": 10,
   "id": "3f80cdf7-c688-4998-83b8-f98b5bda4073",
   "metadata": {},
   "outputs": [
    {
     "data": {
      "text/html": [
       "<div>\n",
       "<style scoped>\n",
       "    .dataframe tbody tr th:only-of-type {\n",
       "        vertical-align: middle;\n",
       "    }\n",
       "\n",
       "    .dataframe tbody tr th {\n",
       "        vertical-align: top;\n",
       "    }\n",
       "\n",
       "    .dataframe thead th {\n",
       "        text-align: right;\n",
       "    }\n",
       "</style>\n",
       "<table border=\"1\" class=\"dataframe\">\n",
       "  <thead>\n",
       "    <tr style=\"text-align: right;\">\n",
       "      <th></th>\n",
       "      <th>NewExist</th>\n",
       "      <th>UrbanRural</th>\n",
       "    </tr>\n",
       "  </thead>\n",
       "  <tbody>\n",
       "    <tr>\n",
       "      <th>0</th>\n",
       "      <td>New</td>\n",
       "      <td>Unknown</td>\n",
       "    </tr>\n",
       "    <tr>\n",
       "      <th>1</th>\n",
       "      <td>New</td>\n",
       "      <td>Unknown</td>\n",
       "    </tr>\n",
       "    <tr>\n",
       "      <th>2</th>\n",
       "      <td>Existing</td>\n",
       "      <td>Unknown</td>\n",
       "    </tr>\n",
       "    <tr>\n",
       "      <th>3</th>\n",
       "      <td>Existing</td>\n",
       "      <td>Unknown</td>\n",
       "    </tr>\n",
       "    <tr>\n",
       "      <th>4</th>\n",
       "      <td>Existing</td>\n",
       "      <td>Unknown</td>\n",
       "    </tr>\n",
       "  </tbody>\n",
       "</table>\n",
       "</div>"
      ],
      "text/plain": [
       "   NewExist UrbanRural\n",
       "0       New    Unknown\n",
       "1       New    Unknown\n",
       "2  Existing    Unknown\n",
       "3  Existing    Unknown\n",
       "4  Existing    Unknown"
      ]
     },
     "execution_count": 10,
     "metadata": {},
     "output_type": "execute_result"
    }
   ],
   "source": [
    "new_exist_case = lambda num: 'Existing' if num == 1 else 'New' if num == 2 else 'Unknown'\n",
    "urban_rural_case = lambda num: 'Urban' if num == 1 else 'Rural' if num == 2 else 'Unknown'\n",
    "\n",
    "loan_data_raw['NewExist'] = loan_data_raw['NewExist'].apply(new_exist_case)\n",
    "loan_data_raw['UrbanRural'] = loan_data_raw['UrbanRural'].apply(urban_rural_case)\n",
    "\n",
    "loan_data_raw[['NewExist', 'UrbanRural']].head()"
   ]
  },
  {
   "cell_type": "markdown",
   "id": "828b27dd-ddbf-41c5-b6b4-5eda48b158bc",
   "metadata": {},
   "source": [
    "For `NAICS`, each business loan is given with 6 digits of specificity for what kind of business it is. We can narrow this down to just the business sector using the first 2 digits of the NAICS code"
   ]
  },
  {
   "cell_type": "code",
   "execution_count": 11,
   "id": "0c3ee44b-78a5-49a1-affc-4f007a466bba",
   "metadata": {},
   "outputs": [
    {
     "data": {
      "text/plain": [
       "0    45\n",
       "1    72\n",
       "2    62\n",
       "3     0\n",
       "4     0\n",
       "Name: NAICS, dtype: object"
      ]
     },
     "execution_count": 11,
     "metadata": {},
     "output_type": "execute_result"
    }
   ],
   "source": [
    "trim_NAICS = lambda num: str(num)[:2]\n",
    "loan_data_raw['NAICS'] = loan_data_raw['NAICS'].apply(trim_NAICS)\n",
    "loan_data_raw['NAICS'].head()"
   ]
  },
  {
   "cell_type": "markdown",
   "id": "1b5f48eb-848e-4e34-acac-726c6b635125",
   "metadata": {},
   "source": [
    "## Converting Columns to Binary Flags"
   ]
  },
  {
   "cell_type": "markdown",
   "id": "783c8cef-7156-4f49-bb42-0c0ed6068446",
   "metadata": {},
   "source": [
    "Lastly, we convert the logical columns into binary flags. These include `RevLineCr`, `LowDoc`, and our prediction column `MIS_Status`. The first two have some extra values in the data set but for simplification we will treat 'Y' (Yes) or 'T' (True) as `True` values and everything else as `False`."
   ]
  },
  {
   "cell_type": "code",
   "execution_count": 12,
   "id": "3393b46a-eb9e-4ede-b497-894ae1651e81",
   "metadata": {},
   "outputs": [
    {
     "data": {
      "text/html": [
       "<div>\n",
       "<style scoped>\n",
       "    .dataframe tbody tr th:only-of-type {\n",
       "        vertical-align: middle;\n",
       "    }\n",
       "\n",
       "    .dataframe tbody tr th {\n",
       "        vertical-align: top;\n",
       "    }\n",
       "\n",
       "    .dataframe thead th {\n",
       "        text-align: right;\n",
       "    }\n",
       "</style>\n",
       "<table border=\"1\" class=\"dataframe\">\n",
       "  <thead>\n",
       "    <tr style=\"text-align: right;\">\n",
       "      <th></th>\n",
       "      <th>RevLineCr</th>\n",
       "      <th>LowDoc</th>\n",
       "    </tr>\n",
       "  </thead>\n",
       "  <tbody>\n",
       "    <tr>\n",
       "      <th>0</th>\n",
       "      <td>0</td>\n",
       "      <td>1</td>\n",
       "    </tr>\n",
       "    <tr>\n",
       "      <th>1</th>\n",
       "      <td>0</td>\n",
       "      <td>1</td>\n",
       "    </tr>\n",
       "    <tr>\n",
       "      <th>2</th>\n",
       "      <td>0</td>\n",
       "      <td>0</td>\n",
       "    </tr>\n",
       "    <tr>\n",
       "      <th>3</th>\n",
       "      <td>0</td>\n",
       "      <td>1</td>\n",
       "    </tr>\n",
       "    <tr>\n",
       "      <th>4</th>\n",
       "      <td>0</td>\n",
       "      <td>0</td>\n",
       "    </tr>\n",
       "  </tbody>\n",
       "</table>\n",
       "</div>"
      ],
      "text/plain": [
       "   RevLineCr  LowDoc\n",
       "0          0       1\n",
       "1          0       1\n",
       "2          0       0\n",
       "3          0       1\n",
       "4          0       0"
      ]
     },
     "execution_count": 12,
     "metadata": {},
     "output_type": "execute_result"
    }
   ],
   "source": [
    "Y_or_T = lambda char: 1 if char in ['Y', 'T'] else 0\n",
    "\n",
    "loan_data_raw['RevLineCr'] = loan_data_raw['RevLineCr'].apply(Y_or_T)\n",
    "loan_data_raw['LowDoc'] = loan_data_raw['LowDoc'].apply(Y_or_T)\n",
    "\n",
    "loan_data_raw[['RevLineCr', 'LowDoc']].head()"
   ]
  },
  {
   "cell_type": "markdown",
   "id": "c052b9ab-2527-4014-9726-a0df4246b3d2",
   "metadata": {},
   "source": [
    "For `MIS_Status`, we will drop any rows with `NA` values since these cannot be used to train our predictive model. Then, we will convert any charged off loans to 1 and any paid off loans as 0."
   ]
  },
  {
   "cell_type": "code",
   "execution_count": 13,
   "id": "ad14df37-e1c2-4f38-b5ff-341b222dadea",
   "metadata": {},
   "outputs": [
    {
     "data": {
      "text/plain": [
       "array(['P I F', 'CHGOFF', nan], dtype=object)"
      ]
     },
     "execution_count": 13,
     "metadata": {},
     "output_type": "execute_result"
    }
   ],
   "source": [
    "# Verifying unique values in MIS_Status\n",
    "loan_data_raw['MIS_Status'].unique()"
   ]
  },
  {
   "cell_type": "code",
   "execution_count": 14,
   "id": "fc761b6b-2b41-4f67-80b1-fb885bb83bf0",
   "metadata": {},
   "outputs": [
    {
     "data": {
      "text/plain": [
       "0    0\n",
       "1    0\n",
       "2    0\n",
       "3    0\n",
       "4    0\n",
       "5    0\n",
       "6    1\n",
       "7    0\n",
       "8    0\n",
       "9    0\n",
       "Name: MIS_Status, dtype: int64"
      ]
     },
     "execution_count": 14,
     "metadata": {},
     "output_type": "execute_result"
    }
   ],
   "source": [
    "loan_data = loan_data_raw.copy().dropna(subset=['MIS_Status'])\n",
    "loan_data['MIS_Status'] = loan_data['MIS_Status'].apply(lambda status: 1 if status == 'CHGOFF' else 0)\n",
    "\n",
    "# Verify\n",
    "loan_data['MIS_Status'].head(10)"
   ]
  },
  {
   "cell_type": "markdown",
   "id": "b3ebe294-7e53-4c22-b2ff-6c2e51409e95",
   "metadata": {},
   "source": [
    "## Finalizing Loan Data"
   ]
  },
  {
   "cell_type": "markdown",
   "id": "0a596590-2c01-47e5-83d9-e2e731cd77a2",
   "metadata": {},
   "source": [
    "The last thing we need to do is drop the unnecessary features from our data set. Any columns relating to the business identity, loan outcome columns besides our own, and the loan number column can all be removed at this point."
   ]
  },
  {
   "cell_type": "code",
   "execution_count": 15,
   "id": "377537a1-850b-463f-9039-8c37673c8a93",
   "metadata": {},
   "outputs": [
    {
     "data": {
      "text/plain": [
       "Index(['LoanNr_ChkDgt', 'Name', 'City', 'State', 'Zip', 'Bank', 'BankState',\n",
       "       'NAICS', 'ApprovalDate', 'ApprovalFY', 'Term', 'NoEmp', 'NewExist',\n",
       "       'CreateJob', 'RetainedJob', 'FranchiseCode', 'UrbanRural', 'RevLineCr',\n",
       "       'LowDoc', 'ChgOffDate', 'DisbursementDate', 'DisbursementGross',\n",
       "       'BalanceGross', 'MIS_Status', 'ChgOffPrinGr', 'GrAppv', 'SBA_Appv'],\n",
       "      dtype='object')"
      ]
     },
     "execution_count": 15,
     "metadata": {},
     "output_type": "execute_result"
    }
   ],
   "source": [
    "loan_data.columns"
   ]
  },
  {
   "cell_type": "code",
   "execution_count": 16,
   "id": "050facde-f94b-41dc-b714-b608906423a4",
   "metadata": {},
   "outputs": [
    {
     "data": {
      "text/html": [
       "<div>\n",
       "<style scoped>\n",
       "    .dataframe tbody tr th:only-of-type {\n",
       "        vertical-align: middle;\n",
       "    }\n",
       "\n",
       "    .dataframe tbody tr th {\n",
       "        vertical-align: top;\n",
       "    }\n",
       "\n",
       "    .dataframe thead th {\n",
       "        text-align: right;\n",
       "    }\n",
       "</style>\n",
       "<table border=\"1\" class=\"dataframe\">\n",
       "  <thead>\n",
       "    <tr style=\"text-align: right;\">\n",
       "      <th></th>\n",
       "      <th>NAICS</th>\n",
       "      <th>ApprovalDate</th>\n",
       "      <th>ApprovalFY</th>\n",
       "      <th>Term</th>\n",
       "      <th>NoEmp</th>\n",
       "      <th>NewExist</th>\n",
       "      <th>CreateJob</th>\n",
       "      <th>RetainedJob</th>\n",
       "      <th>UrbanRural</th>\n",
       "      <th>RevLineCr</th>\n",
       "      <th>LowDoc</th>\n",
       "      <th>DisbursementDate</th>\n",
       "      <th>DisbursementGross</th>\n",
       "      <th>MIS_Status</th>\n",
       "      <th>GrAppv</th>\n",
       "      <th>SBA_Appv</th>\n",
       "    </tr>\n",
       "  </thead>\n",
       "  <tbody>\n",
       "    <tr>\n",
       "      <th>0</th>\n",
       "      <td>45</td>\n",
       "      <td>9920</td>\n",
       "      <td>1997</td>\n",
       "      <td>84</td>\n",
       "      <td>4</td>\n",
       "      <td>New</td>\n",
       "      <td>0</td>\n",
       "      <td>0</td>\n",
       "      <td>Unknown</td>\n",
       "      <td>0</td>\n",
       "      <td>1</td>\n",
       "      <td>10650</td>\n",
       "      <td>60000.0</td>\n",
       "      <td>0</td>\n",
       "      <td>60000.0</td>\n",
       "      <td>48000.0</td>\n",
       "    </tr>\n",
       "    <tr>\n",
       "      <th>1</th>\n",
       "      <td>72</td>\n",
       "      <td>9920</td>\n",
       "      <td>1997</td>\n",
       "      <td>60</td>\n",
       "      <td>2</td>\n",
       "      <td>New</td>\n",
       "      <td>0</td>\n",
       "      <td>0</td>\n",
       "      <td>Unknown</td>\n",
       "      <td>0</td>\n",
       "      <td>1</td>\n",
       "      <td>10012</td>\n",
       "      <td>40000.0</td>\n",
       "      <td>0</td>\n",
       "      <td>40000.0</td>\n",
       "      <td>32000.0</td>\n",
       "    </tr>\n",
       "    <tr>\n",
       "      <th>2</th>\n",
       "      <td>62</td>\n",
       "      <td>9920</td>\n",
       "      <td>1997</td>\n",
       "      <td>180</td>\n",
       "      <td>7</td>\n",
       "      <td>Existing</td>\n",
       "      <td>0</td>\n",
       "      <td>0</td>\n",
       "      <td>Unknown</td>\n",
       "      <td>0</td>\n",
       "      <td>0</td>\n",
       "      <td>10226</td>\n",
       "      <td>287000.0</td>\n",
       "      <td>0</td>\n",
       "      <td>287000.0</td>\n",
       "      <td>215250.0</td>\n",
       "    </tr>\n",
       "    <tr>\n",
       "      <th>3</th>\n",
       "      <td>0</td>\n",
       "      <td>9920</td>\n",
       "      <td>1997</td>\n",
       "      <td>60</td>\n",
       "      <td>2</td>\n",
       "      <td>Existing</td>\n",
       "      <td>0</td>\n",
       "      <td>0</td>\n",
       "      <td>Unknown</td>\n",
       "      <td>0</td>\n",
       "      <td>1</td>\n",
       "      <td>10042</td>\n",
       "      <td>35000.0</td>\n",
       "      <td>0</td>\n",
       "      <td>35000.0</td>\n",
       "      <td>28000.0</td>\n",
       "    </tr>\n",
       "    <tr>\n",
       "      <th>4</th>\n",
       "      <td>0</td>\n",
       "      <td>9920</td>\n",
       "      <td>1997</td>\n",
       "      <td>240</td>\n",
       "      <td>14</td>\n",
       "      <td>Existing</td>\n",
       "      <td>7</td>\n",
       "      <td>7</td>\n",
       "      <td>Unknown</td>\n",
       "      <td>0</td>\n",
       "      <td>0</td>\n",
       "      <td>9995</td>\n",
       "      <td>229000.0</td>\n",
       "      <td>0</td>\n",
       "      <td>229000.0</td>\n",
       "      <td>229000.0</td>\n",
       "    </tr>\n",
       "  </tbody>\n",
       "</table>\n",
       "</div>"
      ],
      "text/plain": [
       "  NAICS  ApprovalDate  ApprovalFY  Term  NoEmp  NewExist  CreateJob  \\\n",
       "0    45          9920        1997    84      4       New          0   \n",
       "1    72          9920        1997    60      2       New          0   \n",
       "2    62          9920        1997   180      7  Existing          0   \n",
       "3     0          9920        1997    60      2  Existing          0   \n",
       "4     0          9920        1997   240     14  Existing          7   \n",
       "\n",
       "   RetainedJob UrbanRural  RevLineCr  LowDoc  DisbursementDate  \\\n",
       "0            0    Unknown          0       1             10650   \n",
       "1            0    Unknown          0       1             10012   \n",
       "2            0    Unknown          0       0             10226   \n",
       "3            0    Unknown          0       1             10042   \n",
       "4            7    Unknown          0       0              9995   \n",
       "\n",
       "   DisbursementGross  MIS_Status    GrAppv  SBA_Appv  \n",
       "0            60000.0           0   60000.0   48000.0  \n",
       "1            40000.0           0   40000.0   32000.0  \n",
       "2           287000.0           0  287000.0  215250.0  \n",
       "3            35000.0           0   35000.0   28000.0  \n",
       "4           229000.0           0  229000.0  229000.0  "
      ]
     },
     "execution_count": 16,
     "metadata": {},
     "output_type": "execute_result"
    }
   ],
   "source": [
    "drop_cols = ['LoanNr_ChkDgt', 'Name', 'City', 'State', 'Zip', 'Bank', 'BankState', 'FranchiseCode', # business identity columns\n",
    "             'ChgOffDate', 'BalanceGross', 'ChgOffPrinGr'] # other loan outcome columns\n",
    "\n",
    "loan_data.drop(drop_cols, axis=1, inplace=True)\n",
    "loan_data.head()"
   ]
  },
  {
   "cell_type": "markdown",
   "id": "2b107e2c-7580-4ccd-a633-643ae39a7e2c",
   "metadata": {},
   "source": [
    "## Experimenting with a Model (Decision Tree)"
   ]
  },
  {
   "cell_type": "markdown",
   "id": "f8e0251e-11ea-4c81-8dcf-918b272e3a05",
   "metadata": {},
   "source": [
    "### Setting Up"
   ]
  },
  {
   "cell_type": "code",
   "execution_count": 17,
   "id": "76925bfd-3eca-47e4-a1b6-1d2cbdc30975",
   "metadata": {},
   "outputs": [],
   "source": [
    "### Setting up scikit-learn imports, as well as training and testing data\n",
    "\n",
    "from sklearn.model_selection import train_test_split\n",
    "from sklearn.tree import DecisionTreeClassifier\n",
    "from sklearn.metrics import accuracy_score, f1_score, precision_score, recall_score\n",
    "from sklearn.pipeline import Pipeline\n",
    "from sklearn.compose import ColumnTransformer\n",
    "from sklearn.preprocessing import OneHotEncoder, OrdinalEncoder, StandardScaler\n",
    "\n",
    "Y = loan_data['MIS_Status']\n",
    "X = loan_data.drop('MIS_Status', axis=1) # Returns a copy of the data after dropping\n",
    "\n",
    "X_train, X_test, Y_train, Y_test = train_test_split(X, Y, stratify=Y,\n",
    "                                                    test_size=0.2, random_state=42)"
   ]
  },
  {
   "cell_type": "code",
   "execution_count": 18,
   "id": "06d17e82-59c8-422c-a590-130957620fe6",
   "metadata": {},
   "outputs": [],
   "source": [
    "### Function to get evaluation metrics\n",
    "\n",
    "metric_funcs = [accuracy_score, precision_score, recall_score, f1_score]\n",
    "\n",
    "def evaluate_results(metric_funcs, true_vals, predicted_vals, message):\n",
    "    metric_vals = []\n",
    "    \n",
    "    print(message)\n",
    "    for func in metric_funcs:\n",
    "        evaluation = func(true_vals, predicted_vals)\n",
    "        metric_vals.append(evaluation)\n",
    "        print(func.__name__, evaluation, sep='\\t')\n",
    "        \n",
    "    return metric_vals"
   ]
  },
  {
   "cell_type": "code",
   "execution_count": 19,
   "id": "e756d82f-35d8-4b01-b9ad-c6603328c940",
   "metadata": {},
   "outputs": [],
   "source": [
    "### Function to plot overall evaluation metrics\n",
    "\n",
    "import matplotlib.pyplot as plt\n",
    "import numpy as np\n",
    "\n",
    "def results_barplot(metric_funcs, metric_vals, title):\n",
    "    fig = plt.figure(figsize = (10, 5))\n",
    "    \n",
    "    metric_names = []\n",
    "\n",
    "    for func in metric_funcs:\n",
    "        separator = func.__name__.index('_')\n",
    "        name = func.__name__[:separator].capitalize()\n",
    "        metric_names.append(name)\n",
    "\n",
    "    plt.bar(metric_names, metric_vals)\n",
    "    plt.yticks(np.arange(0.0, 1.0, 0.1))\n",
    "\n",
    "    plt.grid(axis='y', linestyle='--', linewidth=0.5)\n",
    "    plt.title(title)\n",
    "    plt.xlabel(\"Evaluation Metric\")\n",
    "    plt.ylabel(\"Score\")\n",
    "    \n",
    "    return fig"
   ]
  },
  {
   "cell_type": "markdown",
   "id": "4d91d4a8-8a2c-463d-80b7-d86f95a0a870",
   "metadata": {},
   "source": [
    "### Running the Model (Decision Tree) and Looking at the Results"
   ]
  },
  {
   "cell_type": "code",
   "execution_count": 20,
   "id": "565eaef7-4705-41bb-9e0b-9ecab5d5970c",
   "metadata": {},
   "outputs": [
    {
     "name": "stdout",
     "output_type": "stream",
     "text": [
      "Decision Tree:\n",
      "accuracy_score\t0.922216138908132\n",
      "precision_score\t0.7764872968281521\n",
      "recall_score\t0.78243862104058\n",
      "f1_score\t0.7794515991065912\n"
     ]
    }
   ],
   "source": [
    "one_hot_cols = ['NAICS']\n",
    "ordinal_cols = ['NewExist', 'UrbanRural']\n",
    "scale_cols = ['ApprovalDate', 'ApprovalFY', 'Term', 'NoEmp', 'CreateJob', 'RetainedJob',\n",
    "            'DisbursementDate', 'DisbursementGross', 'GrAppv', 'SBA_Appv', 'RevLineCr', 'LowDoc']\n",
    "\n",
    "ordinal_categories = {\n",
    "    'NewExist': ['Unknown', 'Existing', 'New'],\n",
    "    'UrbanRural': ['Unknown', 'Urban', 'Rural']\n",
    "}\n",
    "\n",
    "preprocessor = ColumnTransformer(\n",
    "    transformers=[\n",
    "        ('onehot', OneHotEncoder(), one_hot_cols),\n",
    "        ('ordinal', OrdinalEncoder(categories=[ordinal_categories[col] for col in ordinal_cols]),\n",
    "        ordinal_cols),\n",
    "        ('scaler', StandardScaler(), scale_cols)\n",
    "])\n",
    "\n",
    "decision_tree_classifier = Pipeline(steps=[\n",
    "    ('preprocessor', preprocessor),\n",
    "    ('classifier', DecisionTreeClassifier(random_state=42))\n",
    "])\n",
    "\n",
    "decision_tree_classifier.fit(X_train, Y_train)\n",
    "\n",
    "predictions = decision_tree_classifier.predict(X_test)\n",
    "\n",
    "metric_vals = evaluate_results(metric_funcs, Y_test, predictions, \"Decision Tree:\")"
   ]
  },
  {
   "cell_type": "code",
   "execution_count": 21,
   "id": "9cd6e279-673a-4230-b278-37acac00a46e",
   "metadata": {},
   "outputs": [
    {
     "data": {
      "image/png": "[encoded data removed]",
      "text/plain": [
       "<Figure size 1000x500 with 1 Axes>"
      ]
     },
     "metadata": {},
     "output_type": "display_data"
    }
   ],
   "source": [
    "fig = results_barplot(metric_funcs, metric_vals, \"Decision Tree\")"
   ]
  },
  {
   "cell_type": "markdown",
   "id": "d863b447-ddae-4ddd-ac79-2bb536728e72",
   "metadata": {},
   "source": [
    "#### Results of New, Existing, and Unknown Businesses"
   ]
  },
  {
   "cell_type": "code",
   "execution_count": 22,
   "id": "1e319815-8475-407e-81a9-56b1f42475ab",
   "metadata": {},
   "outputs": [],
   "source": [
    "### Function to plot compare metrics\n",
    "\n",
    "def results_stacked_barplot(metric_funcs, metric_dict, title):\n",
    "    fig = plt.subplots(figsize = (10, 5))\n",
    "    bar_width = 0.2\n",
    "    \n",
    "    metric_names = []\n",
    "\n",
    "    for func in metric_funcs:\n",
    "        separator = func.__name__.index('_')\n",
    "        name = func.__name__[:separator].capitalize()\n",
    "        metric_names.append(name)\n",
    "\n",
    "    bar1 = np.arange(len(metric_names))\n",
    "    bar2 = [x + bar_width for x in bar1]\n",
    "    bar3 = [x + bar_width for x in bar2]\n",
    "    bars = [bar1, bar2, bar3]\n",
    "    bar_iter = 0\n",
    "\n",
    "    for category in metric_dict.keys():\n",
    "        plt.bar(bars[bar_iter], metric_dict[category], width=bar_width, label=category)\n",
    "        bar_iter += 1\n",
    "\n",
    "    plt.yticks(np.arange(0.0, 1.0, 0.1))\n",
    "    plt.xticks([r + bar_width for r in range(len(metric_names))], metric_names)\n",
    "\n",
    "    plt.grid(axis='y', linestyle='--', linewidth=0.5)\n",
    "    plt.title(title)\n",
    "    plt.xlabel(\"Evaluation Metric\")\n",
    "    plt.ylabel(\"Score\")\n",
    "    plt.legend()\n",
    "    \n",
    "    return fig"
   ]
  },
  {
   "cell_type": "code",
   "execution_count": 23,
   "id": "ab582962-8894-44e3-957c-89f6f37947ba",
   "metadata": {},
   "outputs": [],
   "source": [
    "### Making a copy of testing data and appending real values (Y) and predicted values\n",
    "eval_X = X_test.copy()\n",
    "eval_X['Outcome'] = Y_test.copy()\n",
    "eval_X['Prediction'] = predictions.copy()"
   ]
  },
  {
   "cell_type": "code",
   "execution_count": 24,
   "id": "3563735e-0ca1-418e-8f4a-41f01c6f25ec",
   "metadata": {},
   "outputs": [
    {
     "name": "stdout",
     "output_type": "stream",
     "text": [
      "Decision Tree - New Businesses\n",
      "accuracy_score\t0.9078123761983995\n",
      "precision_score\t0.7485238296077604\n",
      "recall_score\t0.7577924850555081\n",
      "f1_score\t0.7531296414173563\n",
      "\n",
      "Decision Tree - Existing Businesses\n",
      "accuracy_score\t0.9279144451719515\n",
      "precision_score\t0.7887641462644844\n",
      "recall_score\t0.7931268984902752\n",
      "f1_score\t0.7909395062844742\n",
      "\n",
      "Decision Tree - Unknown Businesses\n",
      "accuracy_score\t0.9045454545454545\n",
      "precision_score\t0.45454545454545453\n",
      "recall_score\t0.5263157894736842\n",
      "f1_score\t0.4878048780487805\n"
     ]
    }
   ],
   "source": [
    "new_business_prediction = eval_X[eval_X['NewExist'] == 'New']['Prediction']\n",
    "new_business_outcome = eval_X[eval_X['NewExist'] == 'New']['Outcome']\n",
    "\n",
    "existing_business_prediction = eval_X[eval_X['NewExist'] == 'Existing']['Prediction']\n",
    "existing_business_outcome = eval_X[eval_X['NewExist'] == 'Existing']['Outcome']\n",
    "\n",
    "unknown_business_prediction = eval_X[eval_X['NewExist'] == 'Unknown']['Prediction']\n",
    "unknown_business_outcome = eval_X[eval_X['NewExist'] == 'Unknown']['Outcome']\n",
    "\n",
    "new_business_metrics = evaluate_results(metric_funcs, new_business_outcome, new_business_prediction, \n",
    "                                        \"Decision Tree - New Businesses\")\n",
    "print()\n",
    "existing_business_metrics = evaluate_results(metric_funcs, existing_business_outcome, existing_business_prediction,\n",
    "                                            \"Decision Tree - Existing Businesses\")\n",
    "print()\n",
    "unknown_business_metrics = evaluate_results(metric_funcs, unknown_business_outcome, unknown_business_prediction,\n",
    "                                            \"Decision Tree - Unknown Businesses\")"
   ]
  },
  {
   "cell_type": "code",
   "execution_count": 25,
   "id": "5a448b39-7db0-402b-a3ce-76a910d09b1b",
   "metadata": {},
   "outputs": [
    {
     "data": {
      "image/png": "[encoded data removed]",
      "text/plain": [
       "<Figure size 1000x500 with 1 Axes>"
      ]
     },
     "metadata": {},
     "output_type": "display_data"
    }
   ],
   "source": [
    "new_exist_metric_dict = {\n",
    "    \"New\": new_business_metrics,\n",
    "    \"Existing\": existing_business_metrics,\n",
    "    \"Unknown\": unknown_business_metrics\n",
    "}\n",
    "\n",
    "fig = results_stacked_barplot(metric_funcs, new_exist_metric_dict, \"Decision Tree - New vs Existing Businesses\")"
   ]
  },
  {
   "cell_type": "markdown",
   "id": "68f28bb4-83d7-482a-8b56-dbbad96f1a85",
   "metadata": {},
   "source": [
    "#### Results of Urban, Rural, and Unknown Businesses"
   ]
  },
  {
   "cell_type": "code",
   "execution_count": 26,
   "id": "fa2912fc-c0ab-41f1-8fa2-cb57753b7829",
   "metadata": {},
   "outputs": [
    {
     "name": "stdout",
     "output_type": "stream",
     "text": [
      "Decision Tree - Urban Businesses\n",
      "accuracy_score\t0.9115894429407423\n",
      "precision_score\t0.8192918192918193\n",
      "recall_score\t0.8201501658809149\n",
      "f1_score\t0.8197207678883072\n",
      "\n",
      "Decision Tree - Rural Businesses\n",
      "accuracy_score\t0.8956109134045077\n",
      "precision_score\t0.7019326065411299\n",
      "recall_score\t0.739686684073107\n",
      "f1_score\t0.7203152809560133\n",
      "\n",
      "Decision Tree - Unknown Businesses\n",
      "accuracy_score\t0.9463288232373386\n",
      "precision_score\t0.632181471274115\n",
      "recall_score\t0.6336591585210369\n",
      "f1_score\t0.6329194524036931\n"
     ]
    }
   ],
   "source": [
    "urban_business_prediction = eval_X[eval_X['UrbanRural'] == 'Urban']['Prediction']\n",
    "urban_business_outcome = eval_X[eval_X['UrbanRural'] == 'Urban']['Outcome']\n",
    "\n",
    "rural_business_prediction = eval_X[eval_X['UrbanRural'] == 'Rural']['Prediction']\n",
    "rural_business_outcome = eval_X[eval_X['UrbanRural'] == 'Rural']['Outcome']\n",
    "\n",
    "unknown_business_prediction = eval_X[eval_X['UrbanRural'] == 'Unknown']['Prediction']\n",
    "unknown_business_outcome = eval_X[eval_X['UrbanRural'] == 'Unknown']['Outcome']\n",
    "\n",
    "urban_business_metrics = evaluate_results(metric_funcs, urban_business_outcome, urban_business_prediction,\n",
    "                                            \"Decision Tree - Urban Businesses\")\n",
    "print()\n",
    "rural_business_metrics = evaluate_results(metric_funcs, rural_business_outcome, rural_business_prediction,\n",
    "                                            \"Decision Tree - Rural Businesses\")\n",
    "print()\n",
    "unknown_business_metrics = evaluate_results(metric_funcs, unknown_business_outcome, unknown_business_prediction,\n",
    "                                            \"Decision Tree - Unknown Businesses\")"
   ]
  },
  {
   "cell_type": "code",
   "execution_count": 27,
   "id": "0759603e-bc72-47ef-8ff0-1c3c25428688",
   "metadata": {},
   "outputs": [
    {
     "data": {
      "image/png": "[encoded data removed]",
      "text/plain": [
       "<Figure size 1000x500 with 1 Axes>"
      ]
     },
     "metadata": {},
     "output_type": "display_data"
    }
   ],
   "source": [
    "urban_rural_metric_dict = {\n",
    "    \"Urban\": urban_business_metrics,\n",
    "    \"Rural\": rural_business_metrics,\n",
    "    \"Unknown\": unknown_business_metrics\n",
    "}\n",
    "\n",
    "fig = results_stacked_barplot(metric_funcs, urban_rural_metric_dict, \"Decision Tree - Urban vs Rural Businesses\")"
   ]
  },
  {
   "cell_type": "code",
   "execution_count": null,
   "id": "afc27c08-36d0-43a0-aaae-fb6d06cc33cc",
   "metadata": {},
   "outputs": [],
   "source": []
  }
 ],
 "metadata": {
  "kernelspec": {
   "display_name": "Python 3 (ipykernel)",
   "language": "python",
   "name": "python3"
  },
  "language_info": {
   "codemirror_mode": {
    "name": "ipython",
    "version": 3
   },
   "file_extension": ".py",
   "mimetype": "text/x-python",
   "name": "python",
   "nbconvert_exporter": "python",
   "pygments_lexer": "ipython3",
   "version": "3.10.12"
  }
 },
 "nbformat": 4,
 "nbformat_minor": 5
}
